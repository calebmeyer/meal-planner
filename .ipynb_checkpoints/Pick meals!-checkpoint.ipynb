{
 "cells": [
  {
   "cell_type": "markdown",
   "metadata": {},
   "source": [
    "# Running me!\n",
    "To run this notebook, click the Cell menu item above, then click Run All"
   ]
  },
  {
   "cell_type": "markdown",
   "metadata": {},
   "source": [
    "# Read in Data\n",
    "First we have to read in the meal data from the csv file. We're using pandas since it has better support for working with the data than a simple python list of lists."
   ]
  },
  {
   "cell_type": "code",
   "execution_count": 5,
   "metadata": {},
   "outputs": [],
   "source": [
    "import pandas as pd\n",
    "\n",
    "df = pd.read_csv(\"meals.csv\")"
   ]
  },
  {
   "cell_type": "code",
   "execution_count": 20,
   "metadata": {},
   "outputs": [
    {
     "data": {
      "text/html": [
       "<div>\n",
       "<style scoped>\n",
       "    .dataframe tbody tr th:only-of-type {\n",
       "        vertical-align: middle;\n",
       "    }\n",
       "\n",
       "    .dataframe tbody tr th {\n",
       "        vertical-align: top;\n",
       "    }\n",
       "\n",
       "    .dataframe thead th {\n",
       "        text-align: right;\n",
       "    }\n",
       "</style>\n",
       "<table border=\"1\" class=\"dataframe\">\n",
       "  <thead>\n",
       "    <tr style=\"text-align: right;\">\n",
       "      <th></th>\n",
       "      <th>name</th>\n",
       "      <th>category</th>\n",
       "      <th>breakfasty</th>\n",
       "      <th>lunchy</th>\n",
       "      <th>dinnery</th>\n",
       "      <th>feeds_a_crowd</th>\n",
       "    </tr>\n",
       "  </thead>\n",
       "  <tbody>\n",
       "    <tr>\n",
       "      <th>0</th>\n",
       "      <td>Tacos</td>\n",
       "      <td>Mexican</td>\n",
       "      <td>No</td>\n",
       "      <td>Yes</td>\n",
       "      <td>Yes</td>\n",
       "      <td>Yes</td>\n",
       "    </tr>\n",
       "    <tr>\n",
       "      <th>1</th>\n",
       "      <td>Breakfast Burritos</td>\n",
       "      <td>Breakfast</td>\n",
       "      <td>Yes</td>\n",
       "      <td>Yes</td>\n",
       "      <td>Yes</td>\n",
       "      <td>No</td>\n",
       "    </tr>\n",
       "    <tr>\n",
       "      <th>2</th>\n",
       "      <td>Spaghetti</td>\n",
       "      <td>Pasta</td>\n",
       "      <td>No</td>\n",
       "      <td>Yes</td>\n",
       "      <td>Yes</td>\n",
       "      <td>No</td>\n",
       "    </tr>\n",
       "    <tr>\n",
       "      <th>3</th>\n",
       "      <td>Philly Cheesesteak Sandwiches</td>\n",
       "      <td>American</td>\n",
       "      <td>No</td>\n",
       "      <td>Yes</td>\n",
       "      <td>Yes</td>\n",
       "      <td>Yes</td>\n",
       "    </tr>\n",
       "    <tr>\n",
       "      <th>4</th>\n",
       "      <td>Enchiladas</td>\n",
       "      <td>Mexican</td>\n",
       "      <td>No</td>\n",
       "      <td>No</td>\n",
       "      <td>Yes</td>\n",
       "      <td>Yes</td>\n",
       "    </tr>\n",
       "  </tbody>\n",
       "</table>\n",
       "</div>"
      ],
      "text/plain": [
       "                            name   category breakfasty lunchy dinnery  \\\n",
       "0                          Tacos    Mexican         No    Yes     Yes   \n",
       "1             Breakfast Burritos  Breakfast        Yes    Yes     Yes   \n",
       "2                      Spaghetti      Pasta         No    Yes     Yes   \n",
       "3  Philly Cheesesteak Sandwiches   American         No    Yes     Yes   \n",
       "4                     Enchiladas    Mexican         No     No     Yes   \n",
       "\n",
       "  feeds_a_crowd  \n",
       "0           Yes  \n",
       "1            No  \n",
       "2            No  \n",
       "3           Yes  \n",
       "4           Yes  "
      ]
     },
     "execution_count": 20,
     "metadata": {},
     "output_type": "execute_result"
    }
   ],
   "source": [
    "df.head(5) # just to see the data"
   ]
  },
  {
   "cell_type": "markdown",
   "metadata": {},
   "source": [
    "# Setup Days List\n",
    "Next we have to get a list of the days we're planning for."
   ]
  },
  {
   "cell_type": "code",
   "execution_count": 3,
   "metadata": {},
   "outputs": [],
   "source": [
    "days = [\n",
    "    \"Friday1\", \"Saturday1\", \"Sunday1\", \"Monday1\", \"Tuesday1\", \"Wednesday1\", \"Thursday1\",\n",
    "    \"Friday2\", \"Saturday2\", \"Sunday2\", \"Monday2\", \"Tuesday2\", \"Wednesday2\", \"Thursday2\",\n",
    "]"
   ]
  },
  {
   "cell_type": "markdown",
   "metadata": {},
   "source": [
    "# Add Validations\n",
    "There's quite a few things we need to check for a given meal. Eventually we may extend this to work for breakfast and lunch, and you don't want to have a dinnery food selected for breakfast. For now we just want to make sure that any meal selected for Tuesday feeds a crowd, and that we don't have the same category twice in a row."
   ]
  },
  {
   "cell_type": "code",
   "execution_count": 45,
   "metadata": {},
   "outputs": [],
   "source": [
    "def valid(day, meal):\n",
    "    \"\"\" A meal is valid if it feeds enough people \"\"\"\n",
    "    if \"Tuesday\" not in day:\n",
    "        return True # Today is not Tuesday, so any meal will work\n",
    "    else:\n",
    "        if meal.feeds_a_crowd.item() == \"Yes\":\n",
    "            return True # today is Tuesday and the meal feeds a crowd\n",
    "        return False # today is Tuesday and the meal does not feed a crowd"
   ]
  },
  {
   "cell_type": "markdown",
   "metadata": {},
   "source": [
    "# Pick the Meals\n",
    "Now we need to go through and choose a meal for each day. We'll add a column `already_used` to the dataframe, initialized to False, then begin picking meals."
   ]
  },
  {
   "cell_type": "code",
   "execution_count": 22,
   "metadata": {},
   "outputs": [],
   "source": [
    "df[\"already_used\"] = False"
   ]
  },
  {
   "cell_type": "code",
   "execution_count": 35,
   "metadata": {},
   "outputs": [
    {
     "data": {
      "text/plain": [
       "False"
      ]
     },
     "execution_count": 35,
     "metadata": {},
     "output_type": "execute_result"
    }
   ],
   "source": [
    "df.head(5)"
   ]
  },
  {
   "cell_type": "code",
   "execution_count": 53,
   "metadata": {},
   "outputs": [],
   "source": [
    "days_meals = {} # we'll use a dictionary storing the name of the day mapped to the name of the meal\n",
    "for day in days:\n",
    "    found_valid_meal = False\n",
    "    previous_meal = None\n",
    "    while not found_valid_meal:\n",
    "        # choose a random meal\n",
    "        meal = df.sample()\n",
    "        if meal.already_used.bool():\n",
    "            continue # start over at the while loop\n",
    "        if not valid(day, meal):\n",
    "            continue\n",
    "        if previous_meal is not None:\n",
    "            if previous_meal.category.item() == meal.category.item():\n",
    "                continue\n",
    "        \n",
    "        # if we passed all the above checks, then this meal is perfect\n",
    "        days_meals[day] = meal\n",
    "        meal.already_used = True\n",
    "        previous_meal = meal\n",
    "        found_valid_meal = True"
   ]
  },
  {
   "cell_type": "markdown",
   "metadata": {},
   "source": [
    "# Display our choices\n",
    "Now we just need a nice format for display"
   ]
  },
  {
   "cell_type": "code",
   "execution_count": 57,
   "metadata": {},
   "outputs": [
    {
     "name": "stdout",
     "output_type": "stream",
     "text": [
      "We'll be having Oven Fry Chicken Strips on the first Friday\n",
      "We'll be having Pesto Cavatappi on the first Saturday\n",
      "We'll be having Tomato Spinach Chicken Spaghetti on the first Sunday\n",
      "We'll be having Pancakes on the first Monday\n",
      "We'll be having Waffles on the first Tuesday\n",
      "We'll be having Oven Fry Chicken Strips on the first Wednesday\n",
      "We'll be having Chicken Cacciatore on the first Thursday\n",
      "We'll be having Biscuits and Gravy on the second Friday\n",
      "We'll be having Hot Ham and Cheese on the second Saturday\n",
      "We'll be having KFC Bowl on the second Sunday\n",
      "We'll be having Grilled Cheese on the second Monday\n",
      "We'll be having Enchiladas on the second Tuesday\n",
      "We'll be having Deli Sandwiches on the second Wednesday\n",
      "We'll be having Hot Dogs on the second Thursday\n"
     ]
    }
   ],
   "source": [
    "for day, meal in days_meals.items():\n",
    "    dayname = day[:-1]\n",
    "    daynum = int(day[-1])\n",
    "    ordinal = 'first' if daynum == 1 else 'second'\n",
    "    \n",
    "    print(\"We'll be having {} on the {} {}\".format(meal.name.item(), ordinal, dayname))"
   ]
  }
 ],
 "metadata": {
  "kernelspec": {
   "display_name": "Python 3",
   "language": "python",
   "name": "python3"
  },
  "language_info": {
   "codemirror_mode": {
    "name": "ipython",
    "version": 3
   },
   "file_extension": ".py",
   "mimetype": "text/x-python",
   "name": "python",
   "nbconvert_exporter": "python",
   "pygments_lexer": "ipython3",
   "version": "3.6.5"
  }
 },
 "nbformat": 4,
 "nbformat_minor": 2
}
